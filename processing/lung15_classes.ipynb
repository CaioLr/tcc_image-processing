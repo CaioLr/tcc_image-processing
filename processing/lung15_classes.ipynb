{
 "cells": [
  {
   "cell_type": "code",
   "execution_count": 1,
   "metadata": {},
   "outputs": [],
   "source": [
    "import os\n",
    "import random\n",
    "import shutil\n",
    "import pandas as pd"
   ]
  },
  {
   "cell_type": "code",
   "execution_count": 2,
   "metadata": {},
   "outputs": [],
   "source": [
    "names = ['normal','covid','pneumonia','atelectasis','mass','consolidation','fibrosis','infiltration','emphysema','pneumothorax','edema','cardiomegaly','effusion','pleural_thickening','nodule']"
   ]
  },
  {
   "cell_type": "code",
   "execution_count": 3,
   "metadata": {},
   "outputs": [],
   "source": [
    "train = pd.read_csv('../lung15/treated/train_lung15_15.csv',header=None)\n",
    "test = pd.read_csv('../lung15/treated/test_lung15_15.csv', header=None)"
   ]
  },
  {
   "cell_type": "code",
   "execution_count": 4,
   "metadata": {},
   "outputs": [],
   "source": [
    "t = { \n",
    "    1: [2,6,11],\n",
    "    2 : [0,2,14],\n",
    "    3 : [2,4,14],\n",
    "    4 : [7,9,11],\n",
    "    5 : [5,10,13],\n",
    "    6 : [3,5,10],\n",
    "    7 : [0,7,11],\n",
    "    8 : [0,3,7],\n",
    "    9 : [0,1,8],\n",
    "    10 : [3,12,14]      \n",
    "}\n",
    "\n"
   ]
  },
  {
   "cell_type": "code",
   "execution_count": 5,
   "metadata": {},
   "outputs": [],
   "source": [
    "for i in range(1,11):\n",
    "    df_train= pd.DataFrame(columns=['Nome','Tipo'])\n",
    "    count = 0\n",
    "    for j in t[i]:\n",
    "        for index,row in train.iterrows():\n",
    "            if(row[1]==j):\n",
    "                newRow = {'Nome':row[0],'Tipo':count}\n",
    "                new_df = pd.DataFrame([newRow])\n",
    "                df_train = pd.concat([df_train, new_df], axis=0, ignore_index=True)\n",
    "        count = count + 1\n",
    "    df_train.to_csv(f'../lung15-classes/train_{i}.csv',index=False, header=None)"
   ]
  },
  {
   "cell_type": "code",
   "execution_count": 6,
   "metadata": {},
   "outputs": [],
   "source": [
    "for i in range(1,11):\n",
    "    df_test= pd.DataFrame(columns=['Nome','Tipo'])\n",
    "    count = 0\n",
    "    for j in t[i]:\n",
    "        for index,row in test.iterrows():\n",
    "            if(row[1]==j):\n",
    "                newRow = {'Nome':row[0],'Tipo':count}\n",
    "                new_df = pd.DataFrame([newRow])\n",
    "                df_test = pd.concat([df_test, new_df], axis=0, ignore_index=True)\n",
    "        count = count + 1\n",
    "    df_test.to_csv(f'../lung15-classes/test_{i}.csv',index=False, header=None)"
   ]
  },
  {
   "cell_type": "code",
   "execution_count": null,
   "metadata": {},
   "outputs": [],
   "source": []
  }
 ],
 "metadata": {
  "kernelspec": {
   "display_name": "Python 3",
   "language": "python",
   "name": "python3"
  },
  "language_info": {
   "codemirror_mode": {
    "name": "ipython",
    "version": 3
   },
   "file_extension": ".py",
   "mimetype": "text/x-python",
   "name": "python",
   "nbconvert_exporter": "python",
   "pygments_lexer": "ipython3",
   "version": "3.10.7"
  }
 },
 "nbformat": 4,
 "nbformat_minor": 2
}
