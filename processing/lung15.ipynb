{
 "cells": [
  {
   "cell_type": "code",
   "execution_count": null,
   "metadata": {},
   "outputs": [],
   "source": [
    "import os\n",
    "import random\n",
    "import shutil\n",
    "import pandas as pd\n",
    "\n",
    "df_train = pd.DataFrame(columns=['Nome','Tipo'])\n",
    "df_test = pd.DataFrame(columns=['Nome','Tipo'])"
   ]
  },
  {
   "cell_type": "code",
   "execution_count": null,
   "metadata": {},
   "outputs": [],
   "source": [
    "names = ['normal','covid','pneumonia','atelectasis','mass','consolidation','fibrosis','infiltration','emphysema','pneumothorax','edema','cardiomegaly','effusion','pleural_thickening','nodule']"
   ]
  },
  {
   "cell_type": "code",
   "execution_count": null,
   "metadata": {},
   "outputs": [],
   "source": [
    "# Define o diretório em que os arquivos estão armazenados\n",
    "os.chdir('../lung15/original/normal/')\n",
    "\n",
    "# Lista os arquivos no diretório\n",
    "arquivos = os.listdir()\n",
    "\n",
    "arquivos_selecionados = random.sample(arquivos, int(len(arquivos)*0.7))\n",
    "\n",
    "# Move os arquivos selecionados para a nova pasta\n",
    "for i in range(len(names)):\n",
    "    \n",
    "    for arquivo in arquivos_selecionados:\n",
    "        shutil.move(arquivo, '../../treated/train')\n",
    "        row = {'Nome':arquivo,'Tipo':i}\n",
    "        new_df = pd.DataFrame([row])\n",
    "        df_train = pd.concat([df_train, new_df], axis=0, ignore_index=True)\n",
    "        \n",
    "    for arquivo in arquivos:\n",
    "        if arquivo not in arquivos_selecionados:\n",
    "            shutil.move(arquivo, '../../treated/test')\n",
    "            row = {'Nome':arquivo,'Tipo':i}\n",
    "            new_df = pd.DataFrame([row])\n",
    "            df_test = pd.concat([df_test, new_df], axis=0, ignore_index=True)\n",
    "    \n",
    "\n",
    "    if(i >= 2):\n",
    "        df_train.to_csv(f'../../treated/train_lung15_{i+1}.csv',index=False, header=False)\n",
    "        df_test.to_csv(f'../../treated/test_lung15_{i+1}.csv',index=False, header=False)\n",
    "       \n",
    "    if(i <14):\n",
    "        os.chdir(f'../{names[i+1]}/')\n",
    "        arquivos = os.listdir()\n",
    "        arquivos_selecionados = random.sample(arquivos, int(len(arquivos)*0.7))"
   ]
  },
  {
   "cell_type": "code",
   "execution_count": null,
   "metadata": {},
   "outputs": [],
   "source": [
    "from PIL import Image\n",
    "\n",
    "pasta = '../lung15/treated/train/'\n",
    "for diretorio, subpastas, arquivos in os.walk(pasta):\n",
    "    for arquivo in arquivos:\n",
    "        # img = load_image(pasta_arquivo)\n",
    "        img = Image.open(pasta+arquivo)\n",
    "        rgb_img = img.convert('RGB')\n",
    "        rgb_img.save(pasta+arquivo)  "
   ]
  },
  {
   "cell_type": "code",
   "execution_count": null,
   "metadata": {},
   "outputs": [],
   "source": [
    "pasta = '../lung15/treated/test/'\n",
    "for diretorio, subpastas, arquivos in os.walk(pasta):\n",
    "    for arquivo in arquivos:\n",
    "        # img = load_image(pasta_arquivo)\n",
    "        img = Image.open(pasta+arquivo)\n",
    "        rgb_img = img.convert('RGB')\n",
    "        rgb_img.save(pasta+arquivo)  "
   ]
  }
 ],
 "metadata": {
  "kernelspec": {
   "display_name": "Python 3",
   "language": "python",
   "name": "python3"
  },
  "language_info": {
   "codemirror_mode": {
    "name": "ipython",
    "version": 3
   },
   "file_extension": ".py",
   "mimetype": "text/x-python",
   "name": "python",
   "nbconvert_exporter": "python",
   "pygments_lexer": "ipython3",
   "version": "3.10.7"
  },
  "orig_nbformat": 4
 },
 "nbformat": 4,
 "nbformat_minor": 2
}
